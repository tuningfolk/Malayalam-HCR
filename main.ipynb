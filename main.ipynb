{
 "cells": [
  {
   "cell_type": "code",
   "execution_count": 1,
   "id": "edd6472d-c004-44f0-92df-35f174c2fe32",
   "metadata": {},
   "outputs": [],
   "source": [
    "import numpy as np\n",
    "import cv2\n",
    "from PIL import Image, ImageFilter\n",
    "\n",
    "%matplotlib inline\n",
    "import matplotlib.pyplot as plt"
   ]
  },
  {
   "cell_type": "code",
   "execution_count": 27,
   "id": "6c527998-531e-4584-915c-cceeed0708c4",
   "metadata": {},
   "outputs": [],
   "source": [
    "image_path = 'Sample-handwritten-text-input-for-OCR.png'\n",
    "image_path = 'mal-hw.jpeg'\n",
    "inp_img = Image.open(image_path)"
   ]
  },
  {
   "cell_type": "code",
   "execution_count": 51,
   "id": "88fcb05e",
   "metadata": {},
   "outputs": [],
   "source": [
    "# blurred = cv2.GaussianBlur(np.array(inp_img), (5,5), 0)\n",
    "# blurred = inp_img.filter(ImageFilter.GaussianBlur(radius=2))\n",
    "# blurred.show()\n",
    "blurred = inp_img"
   ]
  },
  {
   "cell_type": "code",
   "execution_count": 52,
   "id": "947ddf1c",
   "metadata": {},
   "outputs": [],
   "source": [
    "def adaptive_thresholding(image: Image, block_size=3, offset=0):\n",
    "    grayscale_img = image.convert('L')\n",
    "    img_array = np.array(grayscale_img)\n",
    "    # print(img_array.shape)\n",
    "\n",
    "    height, width = img_array.shape\n",
    "\n",
    "    #an empty array for the output\n",
    "    thresholded_image = np.zeros((height, width))\n",
    "    for y in range(0,height, block_size):\n",
    "        for x in range(0, width, block_size):\n",
    "            block = img_array[y:y+block_size, x:x+block_size]\n",
    "            #find the mean\n",
    "            block_mean = np.mean(block)\n",
    "            # print(block_mean)\n",
    "            thresholded_block = (block > (block_mean-offset)).astype(np.uint8)*255\n",
    "            thresholded_image[y:y+block_size, x:x+block_size] = thresholded_block\n",
    "    return Image.fromarray(thresholded_image)"
   ]
  },
  {
   "cell_type": "code",
   "execution_count": 53,
   "id": "9a6bd2ee",
   "metadata": {},
   "outputs": [],
   "source": [
    "out_image = adaptive_thresholding(blurred, 75, 70)\n",
    "out_image.show(title='adaptive_thresholding')"
   ]
  },
  {
   "cell_type": "code",
   "execution_count": 54,
   "id": "46594a21",
   "metadata": {},
   "outputs": [],
   "source": [
    "def negate(image):\n",
    "    img_arr = np.array(image)\n",
    "    height, width = img_arr.shape\n",
    "    for y in range(height):\n",
    "        for x in range(width):\n",
    "            img_arr[y,x] = (img_arr[y,x]==0).astype(np.uint8)*255\n",
    "    return Image.fromarray(img_arr)\n",
    "\n",
    "out_image = negate(out_image)\n",
    "out_image.show()"
   ]
  },
  {
   "cell_type": "code",
   "execution_count": 55,
   "id": "3136bbb2",
   "metadata": {},
   "outputs": [],
   "source": [
    "# cv2.findContours(mask.copy, cv2.RETR_EXTERNAL, cv2.CHA )\n",
    "# Find contours and get bounding box for each contour\n",
    "cnts, _ = cv2.findContours(np.array(out_image,dtype=np.uint8), cv2.RETR_EXTERNAL, cv2.CHAIN_APPROX_SIMPLE)\n",
    "cnts = [c for c in cnts if cv2.contourArea(c)>5]\n",
    "boundingBoxes = [cv2.boundingRect(c) for c in cnts]"
   ]
  },
  {
   "cell_type": "code",
   "execution_count": 75,
   "id": "071336a4",
   "metadata": {},
   "outputs": [],
   "source": [
    "final = cv2.drawContours(np.array(inp_img, dtype=np.uint8),cnts, -1, (0,255,0), thickness=0, lineType=cv2.LINE_AA)\n",
    "final = Image.fromarray(np.array(final))"
   ]
  },
  {
   "cell_type": "code",
   "execution_count": 71,
   "id": "2bf349ce",
   "metadata": {},
   "outputs": [],
   "source": [
    "final.show()"
   ]
  },
  {
   "cell_type": "code",
   "execution_count": 77,
   "id": "60cda5b2",
   "metadata": {},
   "outputs": [],
   "source": [
    "final=cv2.cvtColor(np.array(inp_img), cv2.COLOR_RGB2BGR)\n",
    "for b in boundingBoxes:\n",
    "    x,y,w,h = b\n",
    "    final = cv2.rectangle(final, (x,y), (x+w,y+h), (0,255,0), 1)"
   ]
  },
  {
   "cell_type": "code",
   "execution_count": 78,
   "id": "ca0ef5e3",
   "metadata": {},
   "outputs": [],
   "source": [
    "# img = Imag\n",
    "Image.fromarray(final).show()\n",
    "# cv2."
   ]
  },
  {
   "cell_type": "code",
   "execution_count": 79,
   "id": "d89c33e1",
   "metadata": {},
   "outputs": [],
   "source": [
    "character_images = []\n",
    "for b in boundingBoxes:\n",
    "    x, y, w, h = b\n",
    "    character = final[y:y+h, x:x+w]\n",
    "    character_images.append(character)"
   ]
  },
  {
   "cell_type": "code",
   "execution_count": 80,
   "id": "7c0a5cc1",
   "metadata": {},
   "outputs": [],
   "source": [
    "Image.fromarray(character_images[25]).show()"
   ]
  },
  {
   "cell_type": "code",
   "execution_count": null,
   "id": "737a0d03",
   "metadata": {},
   "outputs": [],
   "source": []
  }
 ],
 "metadata": {
  "kernelspec": {
   "display_name": "Python 3 (ipykernel)",
   "language": "python",
   "name": "python3"
  },
  "language_info": {
   "codemirror_mode": {
    "name": "ipython",
    "version": 3
   },
   "file_extension": ".py",
   "mimetype": "text/x-python",
   "name": "python",
   "nbconvert_exporter": "python",
   "pygments_lexer": "ipython3",
   "version": "3.10.12"
  }
 },
 "nbformat": 4,
 "nbformat_minor": 5
}
